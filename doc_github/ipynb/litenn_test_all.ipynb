{
  "nbformat": 4,
  "nbformat_minor": 0,
  "metadata": {
    "colab": {
      "name": "litenn_test_all.ipynb",
      "provenance": [],
      "collapsed_sections": []
    },
    "kernelspec": {
      "name": "python3",
      "display_name": "Python 3"
    },
    "accelerator": "GPU"
  },
  "cells": [
    {
      "cell_type": "code",
      "metadata": {
        "id": "0G3DvMCHCuzm"
      },
      "source": [
        "# Don't forget to assign GPU in the colab session !\n",
        "! pip install litenn\n",
        "import litenn as nn\n",
        "nn.test.all()"
      ],
      "execution_count": null,
      "outputs": []
    }
  ]
}