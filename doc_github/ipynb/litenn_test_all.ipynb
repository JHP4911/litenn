{
  "nbformat": 4,
  "nbformat_minor": 0,
  "metadata": {
    "colab": {
      "name": "Untitled1.ipynb",
      "provenance": [],
      "collapsed_sections": []
    },
    "kernelspec": {
      "name": "python3",
      "display_name": "Python 3"
    },
    "accelerator": "GPU"
  },
  "cells": [
    {
      "cell_type": "code",
      "metadata": {
        "id": "0G3DvMCHCuzm",
        "outputId": "02b4e521-b03d-4a47-9b1e-0e67c2bd2e6b",
        "colab": {
          "base_uri": "https://localhost:8080/"
        }
      },
      "source": [
        "# Don't forget to assign GPU in the colab session !\n",
        "! pip install litenn\n",
        "import litenn as nn\n",
        "nn.test.all()"
      ],
      "execution_count": null,
      "outputs": [
        {
          "output_type": "stream",
          "text": [
            "Collecting litenn\n",
            "\u001b[?25l  Downloading https://files.pythonhosted.org/packages/82/99/833a5708c255592df0fc66b8868ca4234a61d5b8ba31525e79b246ac5a37/litenn-0.1.0-py3-none-any.whl (107kB)\n",
            "\u001b[K     |████████████████████████████████| 112kB 3.4MB/s \n",
            "\u001b[?25hRequirement already satisfied: numpy in /usr/local/lib/python3.6/dist-packages (from litenn) (1.18.5)\n",
            "Installing collected packages: litenn\n",
            "Successfully installed litenn-0.1.0\n",
            "\n",
            "Choose one device index.\n",
            "\n",
            "  [0] : Tesla P4\n",
            "\n",
            "[0] Which device index to choose? : \n",
            "0\n",
            "\n",
            "Using Tesla P4\n",
            "dropout_test()\n",
            "element_wise_op_test()\n",
            "abs()\n",
            "add_const()\n",
            "clip()\n",
            "cos()\n",
            "div_const()\n",
            "exp()\n",
            "leaky_relu()\n",
            "log()\n",
            "mul_const()\n",
            "rdiv_const()\n",
            "rsub_const()\n",
            "relu()\n",
            "sigmoid()\n",
            "sin()\n",
            "softmax()\n",
            "sqrt()\n",
            "square()\n",
            "sub_const()\n",
            "tanh()\n",
            "dual_wise_op_test()\n",
            "add()\n"
          ],
          "name": "stdout"
        }
      ]
    }
  ]
}